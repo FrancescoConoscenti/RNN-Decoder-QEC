{
 "cells": [
  {
   "cell_type": "code",
   "execution_count": 78,
   "metadata": {},
   "outputs": [],
   "source": [
    "from typing import List\n",
    "\n",
    "# def parse_b8(data: bytes, bits_per_shot: int) -> List[List[bool]]:\n",
    "#     shots = []\n",
    "#     bytes_per_shot = (bits_per_shot + 7) // 8\n",
    "#     for offset in range(0, len(data), bytes_per_shot):\n",
    "#         shot = []\n",
    "#         for k in range(bits_per_shot):\n",
    "#             byte = data[offset + k // 8]\n",
    "#             bit = (byte >> (k % 8)) % 2 == 1\n",
    "#             shot.append(bit)\n",
    "#         shots.append(shot)\n",
    "#     return shots\n",
    "\n",
    "def parse_b8(data: bytes, bits_per_shot: int) -> List[List[bool]]:\n",
    "    shots = []\n",
    "    bytes_per_shot = (bits_per_shot + 7) // 8  # Number of bytes per shot\n",
    "    for offset in range(0, len(data), bytes_per_shot):\n",
    "        shot = []\n",
    "        for k in range(bits_per_shot):\n",
    "            # Make sure byte is accessed correctly as an integer\n",
    "            byte = data[offset + k // 8]\n",
    "            # Extract the k-th bit\n",
    "            bit = (byte >> (k % 8)) & 1  # Use & 1 instead of % 2 for clarity\n",
    "            shot.append(bit == 1)\n",
    "        shots.append(shot)\n",
    "    return shots\n",
    "\n",
    "\n",
    "def save_b8(shots: List[List[bool]]) -> bytes:\n",
    "    output = b\"\"\n",
    "    for shot in shots:\n",
    "        bytes_per_shot = (len(shot) + 7) // 8\n",
    "        v = 0\n",
    "        for b in reversed(shot):\n",
    "            v <<= 1\n",
    "            v += int(b)\n",
    "        output += v.to_bytes(bytes_per_shot, 'little')\n",
    "    return output"
   ]
  },
  {
   "cell_type": "code",
   "execution_count": 87,
   "metadata": {},
   "outputs": [
    {
     "ename": "FileNotFoundError",
     "evalue": "[Errno 2] No such file or directory: 'C:\\\\Users\\\\conof\\\\Desktop\\\\RNN_QEC\\\\google_qec3v5_experiment_data\\\\surface_code_bX_d3_r01_center_3_5\\\\measurments.b8'",
     "output_type": "error",
     "traceback": [
      "\u001b[1;31m---------------------------------------------------------------------------\u001b[0m",
      "\u001b[1;31mFileNotFoundError\u001b[0m                         Traceback (most recent call last)",
      "Cell \u001b[1;32mIn[87], line 7\u001b[0m\n\u001b[0;32m      1\u001b[0m \u001b[38;5;66;03m# path1 = r\"C:\\Users\\conof\\Desktop\\RNN_QEC\\google_qec3v5_experiment_data\\surface_code_bX_d3_r01_center_3_5\\measurments.b8\"\u001b[39;00m\n\u001b[0;32m      2\u001b[0m \u001b[38;5;66;03m# experimental_data=parse_b8(path1,8)\u001b[39;00m\n\u001b[0;32m      3\u001b[0m \u001b[38;5;66;03m# print(len(experimental_data))\u001b[39;00m\n\u001b[0;32m      6\u001b[0m path2 \u001b[38;5;241m=\u001b[39m \u001b[38;5;124mr\u001b[39m\u001b[38;5;124m\"\u001b[39m\u001b[38;5;124mC:\u001b[39m\u001b[38;5;124m\\\u001b[39m\u001b[38;5;124mUsers\u001b[39m\u001b[38;5;124m\\\u001b[39m\u001b[38;5;124mconof\u001b[39m\u001b[38;5;124m\\\u001b[39m\u001b[38;5;124mDesktop\u001b[39m\u001b[38;5;124m\\\u001b[39m\u001b[38;5;124mRNN_QEC\u001b[39m\u001b[38;5;124m\\\u001b[39m\u001b[38;5;124mgoogle_qec3v5_experiment_data\u001b[39m\u001b[38;5;124m\\\u001b[39m\u001b[38;5;124msurface_code_bX_d3_r01_center_3_5\u001b[39m\u001b[38;5;124m\\\u001b[39m\u001b[38;5;124mmeasurments.b8\u001b[39m\u001b[38;5;124m\"\u001b[39m\n\u001b[1;32m----> 7\u001b[0m \u001b[38;5;28;01mwith\u001b[39;00m \u001b[38;5;28;43mopen\u001b[39;49m\u001b[43m(\u001b[49m\u001b[43mpath2\u001b[49m\u001b[43m,\u001b[49m\u001b[43m \u001b[49m\u001b[38;5;124;43m'\u001b[39;49m\u001b[38;5;124;43mr\u001b[39;49m\u001b[38;5;124;43m'\u001b[39;49m\u001b[43m)\u001b[49m \u001b[38;5;28;01mas\u001b[39;00m f:\n\u001b[0;32m      8\u001b[0m     data \u001b[38;5;241m=\u001b[39m f\u001b[38;5;241m.\u001b[39mread()\n\u001b[0;32m      9\u001b[0m experimental_data1\u001b[38;5;241m=\u001b[39mparse_b8(data,\u001b[38;5;241m8\u001b[39m)\n",
      "File \u001b[1;32m~\\AppData\\Roaming\\Python\\Python39\\site-packages\\IPython\\core\\interactiveshell.py:282\u001b[0m, in \u001b[0;36m_modified_open\u001b[1;34m(file, *args, **kwargs)\u001b[0m\n\u001b[0;32m    275\u001b[0m \u001b[38;5;28;01mif\u001b[39;00m file \u001b[38;5;129;01min\u001b[39;00m {\u001b[38;5;241m0\u001b[39m, \u001b[38;5;241m1\u001b[39m, \u001b[38;5;241m2\u001b[39m}:\n\u001b[0;32m    276\u001b[0m     \u001b[38;5;28;01mraise\u001b[39;00m \u001b[38;5;167;01mValueError\u001b[39;00m(\n\u001b[0;32m    277\u001b[0m         \u001b[38;5;124mf\u001b[39m\u001b[38;5;124m\"\u001b[39m\u001b[38;5;124mIPython won\u001b[39m\u001b[38;5;124m'\u001b[39m\u001b[38;5;124mt let you open fd=\u001b[39m\u001b[38;5;132;01m{\u001b[39;00mfile\u001b[38;5;132;01m}\u001b[39;00m\u001b[38;5;124m by default \u001b[39m\u001b[38;5;124m\"\u001b[39m\n\u001b[0;32m    278\u001b[0m         \u001b[38;5;124m\"\u001b[39m\u001b[38;5;124mas it is likely to crash IPython. If you know what you are doing, \u001b[39m\u001b[38;5;124m\"\u001b[39m\n\u001b[0;32m    279\u001b[0m         \u001b[38;5;124m\"\u001b[39m\u001b[38;5;124myou can use builtins\u001b[39m\u001b[38;5;124m'\u001b[39m\u001b[38;5;124m open.\u001b[39m\u001b[38;5;124m\"\u001b[39m\n\u001b[0;32m    280\u001b[0m     )\n\u001b[1;32m--> 282\u001b[0m \u001b[38;5;28;01mreturn\u001b[39;00m io_open(file, \u001b[38;5;241m*\u001b[39margs, \u001b[38;5;241m*\u001b[39m\u001b[38;5;241m*\u001b[39mkwargs)\n",
      "\u001b[1;31mFileNotFoundError\u001b[0m: [Errno 2] No such file or directory: 'C:\\\\Users\\\\conof\\\\Desktop\\\\RNN_QEC\\\\google_qec3v5_experiment_data\\\\surface_code_bX_d3_r01_center_3_5\\\\measurments.b8'"
     ]
    }
   ],
   "source": [
    "# path1 = r\"C:\\Users\\conof\\Desktop\\RNN_QEC\\google_qec3v5_experiment_data\\surface_code_bX_d3_r01_center_3_5\\measurments.b8\"\n",
    "# experimental_data=parse_b8(path1,8)\n",
    "# print(len(experimental_data))\n",
    "\n",
    "\n",
    "path2 = r\"C:\\Users\\conof\\Desktop\\RNN_QEC\\google_qec3v5_experiment_data\\surface_code_bX_d3_r01_center_3_5\\measurments.b8\"\n",
    "with open(path2, 'rb') as f:\n",
    "    data = f.read()\n",
    "experimental_data1=parse_b8(data,8)\n",
    "\n",
    "print(len(experimental_data1))\n",
    "\n",
    "\n",
    "print(experimental_data==experimental_data1)"
   ]
  }
 ],
 "metadata": {
  "kernelspec": {
   "display_name": "Python 3",
   "language": "python",
   "name": "python3"
  },
  "language_info": {
   "codemirror_mode": {
    "name": "ipython",
    "version": 3
   },
   "file_extension": ".py",
   "mimetype": "text/x-python",
   "name": "python",
   "nbconvert_exporter": "python",
   "pygments_lexer": "ipython3",
   "version": "3.9.10"
  }
 },
 "nbformat": 4,
 "nbformat_minor": 2
}
