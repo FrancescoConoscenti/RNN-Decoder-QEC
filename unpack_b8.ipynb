{
 "cells": [
  {
   "cell_type": "code",
   "execution_count": 29,
   "metadata": {},
   "outputs": [],
   "source": [
    "from typing import List\n",
    "\n",
    "def parse_b8(data: bytes, bits_per_shot: int) -> List[List[bool]]:\n",
    "    shots = []\n",
    "    bytes_per_shot = (bits_per_shot + 7) // 8\n",
    "    for offset in range(0, len(data), bytes_per_shot):\n",
    "        shot = []\n",
    "        for k in range(bits_per_shot):\n",
    "            byte = data[offset + k // 8]\n",
    "            bit = (byte >> (k % 8)) % 2 == 1\n",
    "            shot.append(bit)\n",
    "        shots.append(shot)\n",
    "    return shots"
   ]
  },
  {
   "cell_type": "code",
   "execution_count": 30,
   "metadata": {},
   "outputs": [
    {
     "name": "stdout",
     "output_type": "stream",
     "text": [
      "150000\n"
     ]
    }
   ],
   "source": [
    "import csv\n",
    "import io\n",
    "\n",
    "path = r\"C:\\Users\\conof\\Desktop\\RNN-Decoder-QEC\\google_qec3v5_experiment_data\\surface_code_bX_d3_r01_center_3_5\\measurements.b8\"\n",
    "with open(path, \"rb\") as file:\n",
    "    # Read the file content as bytes\n",
    "    data = file.read()\n",
    "\n",
    "print(len(parse_b8(data,8)))"
   ]
  }
 ],
 "metadata": {
  "kernelspec": {
   "display_name": "Python 3",
   "language": "python",
   "name": "python3"
  },
  "language_info": {
   "codemirror_mode": {
    "name": "ipython",
    "version": 3
   },
   "file_extension": ".py",
   "mimetype": "text/x-python",
   "name": "python",
   "nbconvert_exporter": "python",
   "pygments_lexer": "ipython3",
   "version": "3.9.10"
  }
 },
 "nbformat": 4,
 "nbformat_minor": 2
}
