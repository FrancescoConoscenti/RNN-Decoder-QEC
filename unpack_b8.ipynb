{
 "cells": [
  {
   "cell_type": "code",
   "execution_count": 3,
   "metadata": {},
   "outputs": [],
   "source": [
    "from typing import List\n",
    "\n",
    "def parse_b8(data: bytes, bits_per_shot: int) -> List[List[bool]]:\n",
    "    shots = []\n",
    "    bytes_per_shot = (bits_per_shot + 7) // 8\n",
    "    for offset in range(0, len(data), bytes_per_shot):\n",
    "        shot = []\n",
    "        for k in range(bits_per_shot):\n",
    "            byte = data[offset + k // 8]\n",
    "            bit = (byte >> (k % 8)) % 2 == 1\n",
    "            shot.append(bit)\n",
    "        shots.append(shot)\n",
    "    return shots"
   ]
  },
  {
   "cell_type": "code",
   "execution_count": 10,
   "metadata": {},
   "outputs": [
    {
     "name": "stdout",
     "output_type": "stream",
     "text": [
      "33\n"
     ]
    }
   ],
   "source": [
    "import csv\n",
    "import io\n",
    "\n",
    "path = r\"C:\\Users\\conof\\Desktop\\RNN-Decoder-QEC\\google_qec3v5_experiment_data\\surface_code_bX_d3_r03_center_3_5\\measurements.b8\"\n",
    "round = 3\n",
    "bits_per_shot=17+8*(round-1)\n",
    "\n",
    "with open(path, \"rb\") as file:\n",
    "    # Read the file content as bytes\n",
    "    data = file.read()\n",
    "\n",
    "print(len(parse_b8(data,bits_per_shot)[1]))"
   ]
  },
  {
   "cell_type": "code",
   "execution_count": 8,
   "metadata": {},
   "outputs": [
    {
     "name": "stdout",
     "output_type": "stream",
     "text": [
      "40\n"
     ]
    }
   ],
   "source": [
    "path = r\"C:\\Users\\conof\\Desktop\\RNN-Decoder-QEC\\google_qec3v5_experiment_data\\surface_code_bX_d3_r05_center_3_5\\detection_events.b8\"\n",
    "round = 5\n",
    "bits_per_shot = round*8\n",
    "\n",
    "with open(path, \"rb\") as file:\n",
    "    # Read the file content as bytes\n",
    "    data = file.read()\n",
    "\n",
    "detection = parse_b8(data,bits_per_shot)\n",
    "print(len(parse_b8(data,bits_per_shot)[0]))"
   ]
  },
  {
   "cell_type": "code",
   "execution_count": 26,
   "metadata": {},
   "outputs": [
    {
     "name": "stdout",
     "output_type": "stream",
     "text": [
      "tensor(48)\n"
     ]
    }
   ],
   "source": [
    "import torch\n",
    "path = r\"C:\\Users\\conof\\Desktop\\RNN-Decoder-QEC\\google_qec3v5_experiment_data\\surface_code_bX_d3_r05_center_3_5\\obs_flips_actual.01\"\n",
    "\n",
    "with open(path, \"rb\") as file:\n",
    "    # Read the file content as bytes\n",
    "    data = file.read()\n",
    "\n",
    "obs = data.replace(b\"\\n\", b\"\")\n",
    "\n",
    "print(torch.tensor(list(obs))[0])"
   ]
  }
 ],
 "metadata": {
  "kernelspec": {
   "display_name": "Python 3",
   "language": "python",
   "name": "python3"
  },
  "language_info": {
   "codemirror_mode": {
    "name": "ipython",
    "version": 3
   },
   "file_extension": ".py",
   "mimetype": "text/x-python",
   "name": "python",
   "nbconvert_exporter": "python",
   "pygments_lexer": "ipython3",
   "version": "3.9.10"
  }
 },
 "nbformat": 4,
 "nbformat_minor": 2
}
