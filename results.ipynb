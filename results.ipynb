{
 "cells": [
  {
   "cell_type": "code",
   "execution_count": null,
   "metadata": {
    "vscode": {
     "languageId": "plaintext"
    }
   },
   "outputs": [],
   "source": [
    "\"\"\"\n",
    "RNN_batch\n",
    "circuit_surface, rounds=11, distance = 3 num_shots=20000000, hidden_size = 128, batch_size = 256, learning_rate=0.0001, num_epochs=20\n",
    "Epoch [1/20], Loss: 0.0023\n",
    "Epoch [2/20], Loss: 0.0020\n",
    "Epoch [3/20], Loss: 0.0018\n",
    "Epoch [4/20], Loss: 0.0017\n",
    "Epoch [5/20], Loss: 0.0017\n",
    "Epoch [6/20], Loss: 0.0016\n",
    "Epoch [7/20], Loss: 0.0016\n",
    "Epoch [8/20], Loss: 0.0016\n",
    "Epoch [9/20], Loss: 0.0015\n",
    "Epoch [10/20], Loss: 0.0015\n",
    "Epoch [11/20], Loss: 0.0015\n",
    "Epoch [12/20], Loss: 0.0015\n",
    "Epoch [13/20], Loss: 0.0015\n",
    "Epoch [14/20], Loss: 0.0015\n",
    "Epoch [15/20], Loss: 0.0015\n",
    "Epoch [16/20], Loss: 0.0015\n",
    "Epoch [17/20], Loss: 0.0015\n",
    "Epoch [18/20], Loss: 0.0015\n",
    "Epoch [19/20], Loss: 0.0015\n",
    "Epoch [20/20], Loss: 0.0015\n",
    "Test Accuracy: 82.71%\n",
    "\"\"\""
   ]
  },
  {
   "cell_type": "code",
   "execution_count": null,
   "metadata": {
    "vscode": {
     "languageId": "plaintext"
    }
   },
   "outputs": [],
   "source": [
    "RNN_batch\n",
    "circuit_surface, rounds=5, distance = 3 num_shots=2000000, hidden_size = 128, batch_size = 256, learning_rate=0.0001, num_epochs=20\n",
    "Epoch [1/20], Loss: 0.0020\n",
    "Epoch [2/20], Loss: 0.0018\n",
    "Epoch [3/20], Loss: 0.0017\n",
    "Epoch [4/20], Loss: 0.0016\n",
    "Epoch [5/20], Loss: 0.0015\n",
    "Epoch [6/20], Loss: 0.0014\n",
    "Epoch [7/20], Loss: 0.0014\n",
    "Epoch [8/20], Loss: 0.0013\n",
    "Epoch [9/20], Loss: 0.0013\n",
    "Epoch [10/20], Loss: 0.0012\n",
    "Epoch [11/20], Loss: 0.0012\n",
    "Epoch [12/20], Loss: 0.0011\n",
    "Epoch [13/20], Loss: 0.0011\n",
    "Epoch [14/20], Loss: 0.0011\n",
    "Epoch [15/20], Loss: 0.0011\n",
    "Epoch [16/20], Loss: 0.0011\n",
    "Epoch [17/20], Loss: 0.0010\n",
    "Epoch [18/20], Loss: 0.0010\n",
    "Epoch [19/20], Loss: 0.0010\n",
    "Epoch [20/20], Loss: 0.0010\n",
    "Test Accuracy: 88.99%"
   ]
  },
  {
   "cell_type": "code",
   "execution_count": null,
   "metadata": {
    "vscode": {
     "languageId": "plaintext"
    }
   },
   "outputs": [],
   "source": [
    "LSTM_Teheral\n",
    "circuit_surface, rounds=5, distance = 3 num_shots=20000000, hidden_size = 64, batch_size = 256, num_layers=2, hidden_layer_Ff=64,  learning_rate=0.00025, num_epochs=20\n",
    "Epoch [1/20], Loss: 0.7144\n",
    "Epoch [2/20], Loss: 0.6973\n",
    "Epoch [3/20], Loss: 0.6911\n",
    "Epoch [4/20], Loss: 0.6984\n",
    "Epoch [5/20], Loss: 0.6963\n",
    "Epoch [6/20], Loss: 0.6965\n",
    "Epoch [7/20], Loss: 0.6954\n",
    "Epoch [8/20], Loss: 0.6836\n",
    "Epoch [9/20], Loss: 0.6895\n",
    "Epoch [10/20], Loss: 0.6896\n",
    "Epoch [11/20], Loss: 0.6904\n",
    "Epoch [12/20], Loss: 0.6949\n",
    "Epoch [13/20], Loss: 0.6932\n",
    "Epoch [14/20], Loss: 0.6870\n",
    "Epoch [15/20], Loss: 0.7006\n",
    "Epoch [16/20], Loss: 0.6888\n",
    "Epoch [17/20], Loss: 0.6945\n",
    "Epoch [18/20], Loss: 0.6886\n",
    "Epoch [19/20], Loss: 0.6920\n",
    "Epoch [20/20], Loss: 0.6892\n",
    "End of training\n",
    "Test Accuracy: 82.72%"
   ]
  },
  {
   "cell_type": "code",
   "execution_count": null,
   "metadata": {
    "vscode": {
     "languageId": "plaintext"
    }
   },
   "outputs": [],
   "source": [
    "LSTM_Teheral\n",
    "circuit_surface, rounds=11, distance = 3 num_shots=20000000, hidden_size = 64, batch_size = 256, num_layers=2, hidden_layer_Ff=64,  learning_rate=0.00025, num_epochs=20\n",
    "Epoch [1/20], Loss: 0.7915\n",
    "Epoch [2/20], Loss: 0.7702\n",
    "Epoch [3/20], Loss: 0.7853\n",
    "Epoch [4/20], Loss: 0.7597\n",
    "Epoch [5/20], Loss: 0.7577\n",
    "Epoch [6/20], Loss: 0.7535\n",
    "Epoch [7/20], Loss: 0.7523\n",
    "Epoch [8/20], Loss: 0.7600\n",
    "Epoch [9/20], Loss: 0.7514\n",
    "Epoch [10/20], Loss: 0.7492\n",
    "Epoch [11/20], Loss: 0.7487\n",
    "Epoch [12/20], Loss: 0.7604\n",
    "Epoch [13/20], Loss: 0.7603\n",
    "Epoch [14/20], Loss: 0.7499\n",
    "Epoch [15/20], Loss: 0.7473\n",
    "Epoch [16/20], Loss: 0.7576\n",
    "Epoch [17/20], Loss: 0.7569\n",
    "Epoch [18/20], Loss: 0.7537\n",
    "Epoch [19/20], Loss: 0.7566\n",
    "Epoch [20/20], Loss: 0.7585\n",
    "End of training\n",
    "Test Accuracy: 76.92%"
   ]
  },
  {
   "cell_type": "code",
   "execution_count": null,
   "metadata": {
    "vscode": {
     "languageId": "plaintext"
    }
   },
   "outputs": [],
   "source": [
    "LSTM_Teheral\n",
    "circuit_surface, rounds=5, distance = 3 num_shots=20000000, hidden_size = 64, batch_size = 512, num_layers=2, hidden_layer_Ff=64,  learning_rate=0.0001, num_epochs=20\n",
    "Epoch [1/20], Loss: 0.7000\n",
    "Epoch [2/20], Loss: 0.6950\n",
    "Epoch [3/20], Loss: 0.6865\n",
    "Epoch [4/20], Loss: 0.6922\n",
    "Epoch [5/20], Loss: 0.6918\n",
    "Epoch [6/20], Loss: 0.6890\n",
    "Epoch [7/20], Loss: 0.6851\n",
    "Epoch [8/20], Loss: 0.6836\n",
    "Epoch [9/20], Loss: 0.6813\n",
    "Epoch [10/20], Loss: 0.6813\n",
    "Epoch [11/20], Loss: 0.6800\n",
    "Epoch [12/20], Loss: 0.6884\n",
    "Epoch [13/20], Loss: 0.6822\n",
    "Epoch [14/20], Loss: 0.6817\n",
    "Epoch [15/20], Loss: 0.6771\n",
    "Epoch [16/20], Loss: 0.6756\n",
    "Epoch [17/20], Loss: 0.6745\n",
    "Epoch [18/20], Loss: 0.6769\n",
    "Epoch [19/20], Loss: 0.6778\n",
    "Epoch [20/20], Loss: 0.6787\n",
    "End of training\n",
    "Test Accuracy: 82.64%"
   ]
  },
  {
   "cell_type": "code",
   "execution_count": null,
   "metadata": {
    "vscode": {
     "languageId": "plaintext"
    }
   },
   "outputs": [],
   "source": [
    "RNN batch\n",
    "circuit_surface, rounds=17, distance = 3 num_shots=20000000, hidden_size = 128, batch_size = 256, learning_rate=5e-05, num_epochs=20\n",
    "Epoch [1/20], Loss: 0.0026\n",
    "Epoch [2/20], Loss: 0.0025\n",
    "Epoch [3/20], Loss: 0.0024\n",
    "Epoch [4/20], Loss: 0.0023\n",
    "Epoch [5/20], Loss: 0.0023\n",
    "Epoch [6/20], Loss: 0.0022\n",
    "Epoch [7/20], Loss: 0.0021\n",
    "Epoch [8/20], Loss: 0.0021\n",
    "Epoch [9/20], Loss: 0.0021\n",
    "Epoch [10/20], Loss: 0.0020\n",
    "Epoch [11/20], Loss: 0.0020\n",
    "Epoch [12/20], Loss: 0.0020\n",
    "Epoch [13/20], Loss: 0.0020\n",
    "Epoch [14/20], Loss: 0.0020\n",
    "Epoch [15/20], Loss: 0.0019\n",
    "Epoch [16/20], Loss: 0.0019\n",
    "Epoch [17/20], Loss: 0.0019\n",
    "Epoch [18/20], Loss: 0.0019\n",
    "Epoch [19/20], Loss: 0.0019\n",
    "Epoch [20/20], Loss: 0.0019\n",
    "Test Accuracy: 75.35%"
   ]
  },
  {
   "cell_type": "code",
   "execution_count": null,
   "metadata": {
    "vscode": {
     "languageId": "plaintext"
    }
   },
   "outputs": [],
   "source": [
    "LSTM_Teheral\n",
    "circuit_surface, rounds=5, distance = 3 num_shots=10000000, hidden_size = 64, batch_size = 512, num_layers=2, hidden_layer_Ff=64,  learning_rate=0.0001, num_epochs=30\n",
    "Epoch [1/30], Loss: 0.6652\n",
    "Epoch [2/30], Loss: 0.6622\n",
    "Epoch [3/30], Loss: 0.6509\n",
    "Epoch [4/30], Loss: 0.6361\n",
    "Epoch [5/30], Loss: 0.6381\n",
    "Epoch [6/30], Loss: 0.6351\n",
    "Epoch [7/30], Loss: 0.6214\n",
    "Epoch [8/30], Loss: 0.6260\n",
    "Epoch [9/30], Loss: 0.6251\n",
    "Epoch [10/30], Loss: 0.6230\n",
    "Epoch [11/30], Loss: 0.6178\n",
    "Epoch [12/30], Loss: 0.6132\n",
    "Epoch [13/30], Loss: 0.6141\n",
    "Epoch [14/30], Loss: 0.6177\n",
    "Epoch [15/30], Loss: 0.6221\n",
    "Epoch [16/30], Loss: 0.6189\n",
    "Epoch [17/30], Loss: 0.6119\n",
    "Epoch [18/30], Loss: 0.6152\n",
    "Epoch [19/30], Loss: 0.6199\n",
    "Epoch [20/30], Loss: 0.6160\n",
    "Epoch [21/30], Loss: 0.6227\n",
    "Epoch [22/30], Loss: 0.6128\n",
    "Epoch [23/30], Loss: 0.6156\n",
    "Epoch [24/30], Loss: 0.6107\n",
    "Epoch [25/30], Loss: 0.6134\n",
    "Epoch [26/30], Loss: 0.6178\n",
    "Epoch [27/30], Loss: 0.6141\n",
    "Epoch [28/30], Loss: 0.6123\n",
    "Epoch [29/30], Loss: 0.6205\n",
    "Epoch [30/30], Loss: 0.6133\n",
    "End of training\n",
    "Test Accuracy: 82.69%"
   ]
  },
  {
   "cell_type": "code",
   "execution_count": null,
   "metadata": {
    "vscode": {
     "languageId": "plaintext"
    }
   },
   "outputs": [],
   "source": [
    "LSTM_Teheral\n",
    "circuit_surface, rounds=17, distance = 3 num_shots=20000000, hidden_size = 64, batch_size = 512, num_layers=2, hidden_layer_Ff=64,  learning_rate=0.0001, num_epochs=20\n",
    "Epoch [1/20], Loss: 0.9676\n",
    "Epoch [2/20], Loss: 0.9375\n",
    "Epoch [3/20], Loss: 0.9150\n",
    "Epoch [4/20], Loss: 0.8900\n",
    "Epoch [5/20], Loss: 0.8787\n",
    "Epoch [6/20], Loss: 0.8638\n",
    "Epoch [7/20], Loss: 0.8624\n",
    "Epoch [8/20], Loss: 0.8589\n",
    "Epoch [9/20], Loss: 0.8529\n",
    "Epoch [10/20], Loss: 0.8450\n",
    "Epoch [11/20], Loss: 0.8480\n",
    "Epoch [12/20], Loss: 0.8498\n",
    "Epoch [13/20], Loss: 0.8487\n",
    "Epoch [14/20], Loss: 0.8476\n",
    "Epoch [15/20], Loss: 0.8531\n",
    "Epoch [16/20], Loss: 0.8423\n",
    "Epoch [17/20], Loss: 0.8470\n",
    "Epoch [18/20], Loss: 0.8396\n",
    "Epoch [19/20], Loss: 0.8519\n",
    "Epoch [20/20], Loss: 0.8509\n",
    "End of training\n",
    "Test Accuracy: 71.69%"
   ]
  },
  {
   "cell_type": "code",
   "execution_count": null,
   "metadata": {
    "vscode": {
     "languageId": "plaintext"
    }
   },
   "outputs": [],
   "source": [
    "RNN batch\n",
    "circuit_google, rounds=5, distance = 3 num_shots=2000000, hidden_size = 128, batch_size = 256, learning_rate=0.0001, num_epochs=20\n",
    "Epoch [1/20], Loss: 0.0021\n",
    "Epoch [2/20], Loss: 0.0020\n",
    "Epoch [3/20], Loss: 0.0019\n",
    "Epoch [4/20], Loss: 0.0018\n",
    "Epoch [5/20], Loss: 0.0017\n",
    "Epoch [6/20], Loss: 0.0017\n",
    "Epoch [7/20], Loss: 0.0016\n",
    "Epoch [8/20], Loss: 0.0016\n",
    "Epoch [9/20], Loss: 0.0015\n",
    "Epoch [10/20], Loss: 0.0015\n",
    "Epoch [11/20], Loss: 0.0015\n",
    "Epoch [12/20], Loss: 0.0014\n",
    "Epoch [13/20], Loss: 0.0014\n",
    "Epoch [14/20], Loss: 0.0014\n",
    "Epoch [15/20], Loss: 0.0014\n",
    "Epoch [16/20], Loss: 0.0013\n",
    "Epoch [17/20], Loss: 0.0013\n",
    "Epoch [18/20], Loss: 0.0013\n",
    "Epoch [19/20], Loss: 0.0013\n",
    "Epoch [20/20], Loss: 0.0013\n",
    "Test Accuracy: 84.52%"
   ]
  },
  {
   "cell_type": "code",
   "execution_count": null,
   "metadata": {
    "vscode": {
     "languageId": "plaintext"
    }
   },
   "outputs": [],
   "source": [
    "RNN batch\n",
    "circuit_google, rounds=17, distance = 3 num_shots=20000000, hidden_size = 128, batch_size = 256, learning_rate=5e-05, num_epochs=20\n",
    "Epoch [1/20], Loss: 0.0027\n",
    "Epoch [2/20], Loss: 0.0027\n",
    "Epoch [3/20], Loss: 0.0026\n",
    "Epoch [4/20], Loss: 0.0026\n",
    "Epoch [5/20], Loss: 0.0025\n",
    "Epoch [6/20], Loss: 0.0025\n",
    "Epoch [7/20], Loss: 0.0025\n",
    "Epoch [8/20], Loss: 0.0024\n",
    "Epoch [9/20], Loss: 0.0024\n",
    "Epoch [10/20], Loss: 0.0024\n",
    "Epoch [11/20], Loss: 0.0024\n",
    "Epoch [12/20], Loss: 0.0024\n",
    "Epoch [13/20], Loss: 0.0024\n",
    "Epoch [14/20], Loss: 0.0024\n",
    "Epoch [15/20], Loss: 0.0023\n",
    "Epoch [16/20], Loss: 0.0023\n",
    "Epoch [17/20], Loss: 0.0023\n",
    "Epoch [18/20], Loss: 0.0023\n",
    "Epoch [19/20], Loss: 0.0023\n",
    "Epoch [20/20], Loss: 0.0023\n",
    "Test Accuracy: 66.10%"
   ]
  },
  {
   "cell_type": "code",
   "execution_count": null,
   "metadata": {
    "vscode": {
     "languageId": "plaintext"
    }
   },
   "outputs": [],
   "source": [
    "RNN batch\n",
    "circuit_google, rounds=11, distance = 3 num_shots=20000000, hidden_size = 128, batch_size = 256, learning_rate=0.0001, num_epochs=20\n",
    "Epoch [1/20], Loss: 0.0025\n",
    "Epoch [2/20], Loss: 0.0023\n",
    "Epoch [3/20], Loss: 0.0021\n",
    "Epoch [4/20], Loss: 0.0021\n",
    "Epoch [5/20], Loss: 0.0020\n",
    "Epoch [6/20], Loss: 0.0020\n",
    "Epoch [7/20], Loss: 0.0020\n",
    "Epoch [8/20], Loss: 0.0019\n",
    "Epoch [9/20], Loss: 0.0019\n",
    "Epoch [10/20], Loss: 0.0019\n",
    "Epoch [11/20], Loss: 0.0019\n",
    "Epoch [12/20], Loss: 0.0019\n",
    "Epoch [13/20], Loss: 0.0019\n",
    "Epoch [14/20], Loss: 0.0019\n",
    "Epoch [15/20], Loss: 0.0019\n",
    "Epoch [16/20], Loss: 0.0019\n",
    "Epoch [17/20], Loss: 0.0019\n",
    "Epoch [18/20], Loss: 0.0019\n",
    "Epoch [19/20], Loss: 0.0019\n",
    "Epoch [20/20], Loss: 0.0019\n",
    "Test Accuracy: 75.62%"
   ]
  },
  {
   "cell_type": "code",
   "execution_count": null,
   "metadata": {
    "vscode": {
     "languageId": "plaintext"
    }
   },
   "outputs": [],
   "source": [
    "RNN batch\n",
    "circuit_google, rounds=5, distance = 3 num_shots=2000000, hidden_size = 128, batch_size = 256, learning_rate=0.0001, num_epochs=20\n",
    "Epoch [1/20], Loss: 0.0021\n",
    "Epoch [2/20], Loss: 0.0020\n",
    "Epoch [3/20], Loss: 0.0019\n",
    "Epoch [4/20], Loss: 0.0018\n",
    "Epoch [5/20], Loss: 0.0017\n",
    "Epoch [6/20], Loss: 0.0017\n",
    "Epoch [7/20], Loss: 0.0016\n",
    "Epoch [8/20], Loss: 0.0016\n",
    "Epoch [9/20], Loss: 0.0015\n",
    "Epoch [10/20], Loss: 0.0015\n",
    "Epoch [11/20], Loss: 0.0015\n",
    "Epoch [12/20], Loss: 0.0014\n",
    "Epoch [13/20], Loss: 0.0014\n",
    "Epoch [14/20], Loss: 0.0014\n",
    "Epoch [15/20], Loss: 0.0014\n",
    "Epoch [16/20], Loss: 0.0013\n",
    "Epoch [17/20], Loss: 0.0013\n",
    "Epoch [18/20], Loss: 0.0013\n",
    "Epoch [19/20], Loss: 0.0013\n",
    "Epoch [20/20], Loss: 0.0013\n",
    "Test Accuracy: 84.52%"
   ]
  },
  {
   "cell_type": "code",
   "execution_count": null,
   "metadata": {
    "vscode": {
     "languageId": "plaintext"
    }
   },
   "outputs": [],
   "source": [
    "2D_RNN batch\n",
    "circuit_google, rounds=5, distance = 3 num_shots=2000000, hidden_size = 128, batch_size = 256, learning_rate=0.0001, num_epochs=20\n",
    "Epoch [1/20], Loss: 0.5967\n",
    "Epoch [2/20], Loss: 0.5936\n",
    "Epoch [3/20], Loss: 0.5888\n",
    "Epoch [4/20], Loss: 0.5876\n",
    "Epoch [5/20], Loss: 0.5871\n",
    "Epoch [6/20], Loss: 0.5868\n",
    "Epoch [7/20], Loss: 0.5866\n",
    "Epoch [8/20], Loss: 0.5865\n",
    "Epoch [9/20], Loss: 0.5865\n",
    "Epoch [10/20], Loss: 0.5864\n",
    "Epoch [11/20], Loss: 0.5864\n",
    "Epoch [12/20], Loss: 0.5864\n",
    "Epoch [13/20], Loss: 0.5864\n",
    "Epoch [14/20], Loss: 0.5863\n",
    "Epoch [15/20], Loss: 0.5863\n",
    "Epoch [16/20], Loss: 0.5863\n",
    "Epoch [17/20], Loss: 0.5863\n",
    "Epoch [18/20], Loss: 0.5863\n",
    "Epoch [19/20], Loss: 0.5863\n",
    "Epoch [20/20], Loss: 0.5863\n",
    "Training finished.\n",
    "Test Accuracy: 71.10%"
   ]
  },
  {
   "cell_type": "code",
   "execution_count": null,
   "metadata": {
    "vscode": {
     "languageId": "plaintext"
    }
   },
   "outputs": [],
   "source": [
    "2D LSTM_batch pre\n",
    "circuit_google, rounds=5, distance = 3 num_shots=2000000, batch_size = 256, hidden_size = 128, batch_size = 256, layers_sizes=[384, 256, 128],  learning_rate=0.0005, num_epochs=20\n",
    "Epoch [1/20], Loss: 0.4289\n",
    "Epoch [2/20], Loss: 0.3077\n",
    "Epoch [3/20], Loss: 0.2938\n",
    "Epoch [4/20], Loss: 0.2880\n",
    "Epoch [5/20], Loss: 0.2849\n",
    "Epoch [6/20], Loss: 0.2831\n",
    "Epoch [7/20], Loss: 0.2814\n",
    "Epoch [8/20], Loss: 0.2794\n",
    "Epoch [9/20], Loss: 0.2782\n",
    "Epoch [10/20], Loss: 0.2766\n",
    "Epoch [11/20], Loss: 0.2756\n",
    "Epoch [12/20], Loss: 0.2743\n",
    "Epoch [13/20], Loss: 0.2732\n",
    "Epoch [14/20], Loss: 0.2722\n",
    "Epoch [15/20], Loss: 0.2712\n",
    "Epoch [16/20], Loss: 0.2703\n",
    "Epoch [17/20], Loss: 0.2697\n",
    "Epoch [18/20], Loss: 0.2686\n",
    "Epoch [19/20], Loss: 0.2676\n",
    "Epoch [20/20], Loss: 0.2668\n",
    "Training finished.\n",
    "Test Accuracy: 87.71%"
   ]
  },
  {
   "cell_type": "code",
   "execution_count": null,
   "metadata": {
    "vscode": {
     "languageId": "plaintext"
    }
   },
   "outputs": [],
   "source": [
    "LSTM_Teheral\n",
    "circuit_google, rounds=5, distance = 3 num_shots=2000000, hidden_size = 64, batch_size = 512, num_layers=2, hidden_layer_Ff=64,  learning_rate=0.0001, num_epochs=20\n",
    "Epoch [1/20], Loss: 0.8035\n",
    "Epoch [2/20], Loss: 0.7513\n",
    "Epoch [3/20], Loss: 0.7357\n",
    "Epoch [4/20], Loss: 0.7331\n",
    "Epoch [5/20], Loss: 0.7271\n",
    "Epoch [6/20], Loss: 0.7212\n",
    "Epoch [7/20], Loss: 0.7202\n",
    "Epoch [8/20], Loss: 0.7163\n",
    "Epoch [9/20], Loss: 0.7178\n",
    "Epoch [10/20], Loss: 0.7158\n",
    "Epoch [11/20], Loss: 0.7132\n",
    "Epoch [12/20], Loss: 0.7139\n",
    "Epoch [13/20], Loss: 0.7110\n",
    "Epoch [14/20], Loss: 0.7081\n",
    "Epoch [15/20], Loss: 0.7066\n",
    "Epoch [16/20], Loss: 0.7060\n",
    "Epoch [17/20], Loss: 0.7082\n",
    "Epoch [18/20], Loss: 0.7088\n",
    "Epoch [19/20], Loss: 0.7037\n",
    "Epoch [20/20], Loss: 0.7079\n",
    "End of training\n",
    "Test Accuracy: 76.44%"
   ]
  },
  {
   "cell_type": "code",
   "execution_count": null,
   "metadata": {
    "vscode": {
     "languageId": "plaintext"
    }
   },
   "outputs": [],
   "source": [
    "LSTM_Teheral\n",
    "circuit_google, rounds=11, distance = 3 num_shots=20000000, hidden_size = 64, batch_size = 512, num_layers=2, hidden_layer_Ff=64,  learning_rate=0.0001, num_epochs=20\n",
    "Epoch [1/20], Loss: 0.9257\n",
    "Epoch [2/20], Loss: 0.9188\n",
    "Epoch [3/20], Loss: 0.9142\n",
    "Epoch [4/20], Loss: 0.9012\n",
    "Epoch [5/20], Loss: 0.8944\n",
    "Epoch [6/20], Loss: 0.9096\n",
    "Epoch [7/20], Loss: 0.8987\n",
    "Epoch [8/20], Loss: 0.8942\n",
    "Epoch [9/20], Loss: 0.8960\n",
    "Epoch [10/20], Loss: 0.8970\n",
    "Epoch [11/20], Loss: 0.8965\n",
    "Epoch [12/20], Loss: 0.8977\n",
    "Epoch [13/20], Loss: 0.8955\n",
    "Epoch [14/20], Loss: 0.8926\n",
    "Epoch [15/20], Loss: 0.8979\n",
    "Epoch [16/20], Loss: 0.8951\n",
    "Epoch [17/20], Loss: 0.8913\n",
    "Epoch [18/20], Loss: 0.8905\n",
    "Epoch [19/20], Loss: 0.8965\n",
    "Epoch [20/20], Loss: 0.8896\n",
    "End of training\n",
    "Test Accuracy: 68.65%"
   ]
  },
  {
   "cell_type": "code",
   "execution_count": null,
   "metadata": {
    "vscode": {
     "languageId": "plaintext"
    }
   },
   "outputs": [],
   "source": [
    "LSTM_Teheral\n",
    "circuit_google, rounds=17, distance = 3 num_shots=20000000, hidden_size = 64, batch_size = 512, num_layers=2, hidden_layer_Ff=64,  learning_rate=0.0001, num_epochs=20\n",
    "Epoch [1/20], Loss: 1.0082\n",
    "Epoch [2/20], Loss: 0.9939\n",
    "Epoch [3/20], Loss: 0.9825\n",
    "Epoch [4/20], Loss: 0.9701\n",
    "Epoch [5/20], Loss: 0.9582\n",
    "Epoch [6/20], Loss: 0.9638\n",
    "Epoch [7/20], Loss: 0.9596\n",
    "Epoch [8/20], Loss: 0.9583\n",
    "Epoch [9/20], Loss: 0.9587\n",
    "Epoch [10/20], Loss: 0.9576\n",
    "Epoch [11/20], Loss: 0.9624\n",
    "Epoch [12/20], Loss: 0.9564\n",
    "Epoch [13/20], Loss: 0.9560\n",
    "Epoch [14/20], Loss: 0.9603\n",
    "Epoch [15/20], Loss: 0.9562\n",
    "Epoch [16/20], Loss: 0.9567\n",
    "Epoch [17/20], Loss: 0.9570\n",
    "Epoch [18/20], Loss: 0.9538\n",
    "Epoch [19/20], Loss: 0.9569\n",
    "Epoch [20/20], Loss: 0.9551\n",
    "End of training\n",
    "Test Accuracy: 62.61%"
   ]
  }
 ],
 "metadata": {
  "language_info": {
   "name": "python"
  }
 },
 "nbformat": 4,
 "nbformat_minor": 2
}
