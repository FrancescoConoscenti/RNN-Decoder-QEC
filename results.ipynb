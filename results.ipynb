{
 "cells": [
  {
   "cell_type": "code",
   "execution_count": null,
   "metadata": {
    "vscode": {
     "languageId": "plaintext"
    }
   },
   "outputs": [],
   "source": [
    "\"\"\"\n",
    "RNN_batch\n",
    "circuit_surface, rounds=11, distance = 3 num_shots=20000000, hidden_size = 128, batch_size = 256, learning_rate=0.0001, num_epochs=20\n",
    "Epoch [1/20], Loss: 0.0023\n",
    "Epoch [2/20], Loss: 0.0020\n",
    "Epoch [3/20], Loss: 0.0018\n",
    "Epoch [4/20], Loss: 0.0017\n",
    "Epoch [5/20], Loss: 0.0017\n",
    "Epoch [6/20], Loss: 0.0016\n",
    "Epoch [7/20], Loss: 0.0016\n",
    "Epoch [8/20], Loss: 0.0016\n",
    "Epoch [9/20], Loss: 0.0015\n",
    "Epoch [10/20], Loss: 0.0015\n",
    "Epoch [11/20], Loss: 0.0015\n",
    "Epoch [12/20], Loss: 0.0015\n",
    "Epoch [13/20], Loss: 0.0015\n",
    "Epoch [14/20], Loss: 0.0015\n",
    "Epoch [15/20], Loss: 0.0015\n",
    "Epoch [16/20], Loss: 0.0015\n",
    "Epoch [17/20], Loss: 0.0015\n",
    "Epoch [18/20], Loss: 0.0015\n",
    "Epoch [19/20], Loss: 0.0015\n",
    "Epoch [20/20], Loss: 0.0015\n",
    "Test Accuracy: 82.71%\n",
    "\"\"\""
   ]
  },
  {
   "cell_type": "code",
   "execution_count": null,
   "metadata": {
    "vscode": {
     "languageId": "plaintext"
    }
   },
   "outputs": [],
   "source": [
    "RNN_batch\n",
    "circuit_surface, rounds=5, distance = 3 num_shots=2000000, hidden_size = 128, batch_size = 256, learning_rate=0.0001, num_epochs=20\n",
    "Epoch [1/20], Loss: 0.0020\n",
    "Epoch [2/20], Loss: 0.0018\n",
    "Epoch [3/20], Loss: 0.0017\n",
    "Epoch [4/20], Loss: 0.0016\n",
    "Epoch [5/20], Loss: 0.0015\n",
    "Epoch [6/20], Loss: 0.0014\n",
    "Epoch [7/20], Loss: 0.0014\n",
    "Epoch [8/20], Loss: 0.0013\n",
    "Epoch [9/20], Loss: 0.0013\n",
    "Epoch [10/20], Loss: 0.0012\n",
    "Epoch [11/20], Loss: 0.0012\n",
    "Epoch [12/20], Loss: 0.0011\n",
    "Epoch [13/20], Loss: 0.0011\n",
    "Epoch [14/20], Loss: 0.0011\n",
    "Epoch [15/20], Loss: 0.0011\n",
    "Epoch [16/20], Loss: 0.0011\n",
    "Epoch [17/20], Loss: 0.0010\n",
    "Epoch [18/20], Loss: 0.0010\n",
    "Epoch [19/20], Loss: 0.0010\n",
    "Epoch [20/20], Loss: 0.0010\n",
    "Test Accuracy: 88.99%"
   ]
  },
  {
   "cell_type": "code",
   "execution_count": null,
   "metadata": {
    "vscode": {
     "languageId": "plaintext"
    }
   },
   "outputs": [],
   "source": [
    "LSTM_Teheral\n",
    "circuit_surface, rounds=5, distance = 3 num_shots=20000000, hidden_size = 64, batch_size = 256, num_layers=2, hidden_layer_Ff=64,  learning_rate=0.00025, num_epochs=20\n",
    "Epoch [1/20], Loss: 0.7144\n",
    "Epoch [2/20], Loss: 0.6973\n",
    "Epoch [3/20], Loss: 0.6911\n",
    "Epoch [4/20], Loss: 0.6984\n",
    "Epoch [5/20], Loss: 0.6963\n",
    "Epoch [6/20], Loss: 0.6965\n",
    "Epoch [7/20], Loss: 0.6954\n",
    "Epoch [8/20], Loss: 0.6836\n",
    "Epoch [9/20], Loss: 0.6895\n",
    "Epoch [10/20], Loss: 0.6896\n",
    "Epoch [11/20], Loss: 0.6904\n",
    "Epoch [12/20], Loss: 0.6949\n",
    "Epoch [13/20], Loss: 0.6932\n",
    "Epoch [14/20], Loss: 0.6870\n",
    "Epoch [15/20], Loss: 0.7006\n",
    "Epoch [16/20], Loss: 0.6888\n",
    "Epoch [17/20], Loss: 0.6945\n",
    "Epoch [18/20], Loss: 0.6886\n",
    "Epoch [19/20], Loss: 0.6920\n",
    "Epoch [20/20], Loss: 0.6892\n",
    "End of training\n",
    "Test Accuracy: 82.72%"
   ]
  },
  {
   "cell_type": "code",
   "execution_count": null,
   "metadata": {
    "vscode": {
     "languageId": "plaintext"
    }
   },
   "outputs": [],
   "source": [
    "LSTM_Teheral\n",
    "circuit_surface, rounds=11, distance = 3 num_shots=20000000, hidden_size = 64, batch_size = 256, num_layers=2, hidden_layer_Ff=64,  learning_rate=0.00025, num_epochs=20\n",
    "Epoch [1/20], Loss: 0.7915\n",
    "Epoch [2/20], Loss: 0.7702\n",
    "Epoch [3/20], Loss: 0.7853\n",
    "Epoch [4/20], Loss: 0.7597\n",
    "Epoch [5/20], Loss: 0.7577\n",
    "Epoch [6/20], Loss: 0.7535\n",
    "Epoch [7/20], Loss: 0.7523\n",
    "Epoch [8/20], Loss: 0.7600\n",
    "Epoch [9/20], Loss: 0.7514\n",
    "Epoch [10/20], Loss: 0.7492\n",
    "Epoch [11/20], Loss: 0.7487\n",
    "Epoch [12/20], Loss: 0.7604\n",
    "Epoch [13/20], Loss: 0.7603\n",
    "Epoch [14/20], Loss: 0.7499\n",
    "Epoch [15/20], Loss: 0.7473\n",
    "Epoch [16/20], Loss: 0.7576\n",
    "Epoch [17/20], Loss: 0.7569\n",
    "Epoch [18/20], Loss: 0.7537\n",
    "Epoch [19/20], Loss: 0.7566\n",
    "Epoch [20/20], Loss: 0.7585\n",
    "End of training\n",
    "Test Accuracy: 76.92%"
   ]
  },
  {
   "cell_type": "code",
   "execution_count": null,
   "metadata": {
    "vscode": {
     "languageId": "plaintext"
    }
   },
   "outputs": [],
   "source": [
    "LSTM_Teheral\n",
    "circuit_google, rounds=5, distance = 3 num_shots=20000000, hidden_size = 64, batch_size = 512, num_layers=2, hidden_layer_Ff=64,  learning_rate=0.0001, num_epochs=20\n",
    "Epoch [1/20], Loss: 0.7000\n",
    "Epoch [2/20], Loss: 0.6950\n",
    "Epoch [3/20], Loss: 0.6865\n",
    "Epoch [4/20], Loss: 0.6922\n",
    "Epoch [5/20], Loss: 0.6918\n",
    "Epoch [6/20], Loss: 0.6890\n",
    "Epoch [7/20], Loss: 0.6851\n",
    "Epoch [8/20], Loss: 0.6836\n",
    "Epoch [9/20], Loss: 0.6813\n",
    "Epoch [10/20], Loss: 0.6813\n",
    "Epoch [11/20], Loss: 0.6800\n",
    "Epoch [12/20], Loss: 0.6884\n",
    "Epoch [13/20], Loss: 0.6822\n",
    "Epoch [14/20], Loss: 0.6817\n",
    "Epoch [15/20], Loss: 0.6771\n",
    "Epoch [16/20], Loss: 0.6756\n",
    "Epoch [17/20], Loss: 0.6745\n",
    "Epoch [18/20], Loss: 0.6769\n",
    "Epoch [19/20], Loss: 0.6778\n",
    "Epoch [20/20], Loss: 0.6787\n",
    "End of training\n",
    "Test Accuracy: 82.64%"
   ]
  }
 ],
 "metadata": {
  "language_info": {
   "name": "python"
  }
 },
 "nbformat": 4,
 "nbformat_minor": 2
}
