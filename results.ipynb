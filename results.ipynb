{
 "cells": [
  {
   "cell_type": "code",
   "execution_count": null,
   "metadata": {
    "vscode": {
     "languageId": "plaintext"
    }
   },
   "outputs": [],
   "source": [
    "\"\"\"\n",
    "circuit_surface, rounds=11, distance = 3 num_shots=20000000, hidden_size = 128, batch_size = 256, learning_rate=0.0001, num_epochs=20\n",
    "Epoch [1/20], Loss: 0.0023\n",
    "Epoch [2/20], Loss: 0.0020\n",
    "Epoch [3/20], Loss: 0.0018\n",
    "Epoch [4/20], Loss: 0.0017\n",
    "Epoch [5/20], Loss: 0.0017\n",
    "Epoch [6/20], Loss: 0.0016\n",
    "Epoch [7/20], Loss: 0.0016\n",
    "Epoch [8/20], Loss: 0.0016\n",
    "Epoch [9/20], Loss: 0.0015\n",
    "Epoch [10/20], Loss: 0.0015\n",
    "Epoch [11/20], Loss: 0.0015\n",
    "Epoch [12/20], Loss: 0.0015\n",
    "Epoch [13/20], Loss: 0.0015\n",
    "Epoch [14/20], Loss: 0.0015\n",
    "Epoch [15/20], Loss: 0.0015\n",
    "Epoch [16/20], Loss: 0.0015\n",
    "Epoch [17/20], Loss: 0.0015\n",
    "Epoch [18/20], Loss: 0.0015\n",
    "Epoch [19/20], Loss: 0.0015\n",
    "Epoch [20/20], Loss: 0.0015\n",
    "Test Accuracy: 82.71%\n",
    "\"\"\""
   ]
  },
  {
   "cell_type": "code",
   "execution_count": null,
   "metadata": {
    "vscode": {
     "languageId": "plaintext"
    }
   },
   "outputs": [],
   "source": [
    "circuit_surface, rounds=5, distance = 3 num_shots=2000000, hidden_size = 128, batch_size = 256, learning_rate=0.0001, num_epochs=20\n",
    "Epoch [1/20], Loss: 0.0020\n",
    "Epoch [2/20], Loss: 0.0018\n",
    "Epoch [3/20], Loss: 0.0017\n",
    "Epoch [4/20], Loss: 0.0016\n",
    "Epoch [5/20], Loss: 0.0015\n",
    "Epoch [6/20], Loss: 0.0014\n",
    "Epoch [7/20], Loss: 0.0014\n",
    "Epoch [8/20], Loss: 0.0013\n",
    "Epoch [9/20], Loss: 0.0013\n",
    "Epoch [10/20], Loss: 0.0012\n",
    "Epoch [11/20], Loss: 0.0012\n",
    "Epoch [12/20], Loss: 0.0011\n",
    "Epoch [13/20], Loss: 0.0011\n",
    "Epoch [14/20], Loss: 0.0011\n",
    "Epoch [15/20], Loss: 0.0011\n",
    "Epoch [16/20], Loss: 0.0011\n",
    "Epoch [17/20], Loss: 0.0010\n",
    "Epoch [18/20], Loss: 0.0010\n",
    "Epoch [19/20], Loss: 0.0010\n",
    "Epoch [20/20], Loss: 0.0010\n",
    "Test Accuracy: 88.99%"
   ]
  },
  {
   "cell_type": "code",
   "execution_count": null,
   "metadata": {
    "vscode": {
     "languageId": "plaintext"
    }
   },
   "outputs": [],
   "source": []
  }
 ],
 "metadata": {
  "language_info": {
   "name": "python"
  }
 },
 "nbformat": 4,
 "nbformat_minor": 2
}
